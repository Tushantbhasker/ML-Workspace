{
 "cells": [
  {
   "cell_type": "code",
   "execution_count": null,
   "metadata": {},
   "outputs": [],
   "source": []
  },
  {
   "cell_type": "code",
   "execution_count": 2,
   "metadata": {},
   "outputs": [],
   "source": [
    "import tensorflow as tf"
   ]
  },
  {
   "cell_type": "code",
   "execution_count": 5,
   "metadata": {},
   "outputs": [
    {
     "name": "stdout",
     "output_type": "stream",
     "text": [
      "Extracting MNIST\\train-images-idx3-ubyte.gz\n",
      "Extracting MNIST\\train-labels-idx1-ubyte.gz\n",
      "Extracting MNIST\\t10k-images-idx3-ubyte.gz\n",
      "Extracting MNIST\\t10k-labels-idx1-ubyte.gz\n"
     ]
    }
   ],
   "source": [
    "from tensorflow.examples.tutorials.mnist import input_data\n",
    "mnist = input_data.read_data_sets(\"MNIST\", one_hot=True)"
   ]
  },
  {
   "cell_type": "code",
   "execution_count": 7,
   "metadata": {},
   "outputs": [],
   "source": [
    "# Constants\n",
    "input_width = 28\n",
    "input_height = 28\n",
    "input_channels = 1\n",
    "input_pixels = input_width * input_height\n",
    "\n",
    "n_cov1 = 32\n",
    "n_cov2 = 64\n",
    "cov1_k = 5\n",
    "cov2_k = 5\n",
    "stride_cov1 = 1\n",
    "stride_cov2 = 1\n",
    "maxpoll_cov1 = 2\n",
    "maxpoll_cov2 = 2\n",
    "\n",
    "n_hidden = 1024\n",
    "n_out = 10\n",
    "\n",
    "input_size_to_hidden = (input_width//(maxpoll_cov1*maxpoll_cov2)) * (input_width//(maxpoll_cov1*maxpoll_cov2)) * n_cov2"
   ]
  },
  {
   "cell_type": "code",
   "execution_count": 20,
   "metadata": {},
   "outputs": [],
   "source": [
    "weight = {\n",
    "    'wc1' : tf.Variable(tf.random_normal([cov1_k,cov1_k,input_channels,n_cov1])),\n",
    "    'wc2' : tf.Variable(tf.random_normal([cov2_k,cov2_k,n_cov1,n_cov2])),\n",
    "    'wh1' : tf.Variable(tf.random_normal([input_size_to_hidden,n_hidden])),\n",
    "    'wo' : tf.Variable(tf.random_normal([n_hidden,n_out]))\n",
    "}\n",
    "\n",
    "bias = {\n",
    "    'bc1' : tf.Variable(tf.random_normal([n_cov1])),\n",
    "    'bc2' : tf.Variable(tf.random_normal([n_cov2])),\n",
    "    'bh1' : tf.Variable(tf.random_normal([n_hidden])),\n",
    "    'bo' : tf.Variable(tf.random_normal([n_out]))\n",
    "\n",
    "}"
   ]
  },
  {
   "cell_type": "code",
   "execution_count": 21,
   "metadata": {},
   "outputs": [],
   "source": [
    "def conv(x, weight, bias, stride = 2):\n",
    "    out = tf.nn.conv2d( x, weight, padding=\"SAME\", strides = [1,stride,stride,1])\n",
    "    out = tf.nn.bias_add(out, bias)\n",
    "    out = tf.nn.relu(out)\n",
    "    return out\n",
    "def max_pooling(x, k = 2):\n",
    "    return tf.nn.max_pool(x, padding=\"SAME\", ksize=[1,k,k,1], strides = [1,k,k,1])"
   ]
  },
  {
   "cell_type": "code",
   "execution_count": 23,
   "metadata": {},
   "outputs": [],
   "source": [
    "# Forward propagation \n",
    "\n",
    "def cnn(x, weights, bias):\n",
    "    x = tf.reshape(x, shape=[-1, input_width, input_height, input_channels])\n",
    "    \n",
    "    cov1 = covl(x, weights['wc1'], bias['bc1'], stride_cov1)\n",
    "    cov_poll_1 = max_pooling(cov1, maxpoll_cov1)\n",
    "    \n",
    "    cov1 = covl(cov_poll_1, weights['wc2'], bias['bc2'], stride_cov1)\n",
    "    cov_poll_2 = max_pooling(cov1, maxpoll_cov1)\n",
    "    \n",
    "    hidden_input = tf.reshape(cov_poll_2, shape=[-1, input_size_to_hidden])\n",
    "    hidden_out_before_activation = tf.add(tf.maxmul(hidden_input, weight['wh1']), bias['bh1'])\n",
    "    hidden_output = tf.nn.relu(hidden_out_before_activation)\n",
    "    \n",
    "    output = tf.add(tf.maxmul(hidden_output, weight['wo']), bias['bo'])\n",
    "    return output"
   ]
  },
  {
   "cell_type": "code",
   "execution_count": null,
   "metadata": {},
   "outputs": [],
   "source": []
  }
 ],
 "metadata": {
  "kernelspec": {
   "display_name": "Python 3",
   "language": "python",
   "name": "python3"
  },
  "language_info": {
   "codemirror_mode": {
    "name": "ipython",
    "version": 3
   },
   "file_extension": ".py",
   "mimetype": "text/x-python",
   "name": "python",
   "nbconvert_exporter": "python",
   "pygments_lexer": "ipython3",
   "version": "3.6.5"
  }
 },
 "nbformat": 4,
 "nbformat_minor": 2
}
