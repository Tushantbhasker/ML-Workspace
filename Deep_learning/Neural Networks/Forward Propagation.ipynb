{
 "cells": [
  {
   "cell_type": "code",
   "execution_count": 1,
   "metadata": {},
   "outputs": [],
   "source": [
    "import numpy as np"
   ]
  },
  {
   "cell_type": "code",
   "execution_count": 2,
   "metadata": {},
   "outputs": [
    {
     "name": "stdout",
     "output_type": "stream",
     "text": [
      "(4, 2)\n",
      "(4, 1)\n"
     ]
    }
   ],
   "source": [
    "# We are going to work with the AND gate here.\n",
    "# Also we are going to work with a basic neural network with no hidden layer and only the output layer.\n",
    "X = np.array([[0,0],[1,0],[0,1],[1,1]])\n",
    "Y = np.array([0,0,0,1]).reshape(-1,1)\n",
    "print(X.shape)\n",
    "print(Y.shape)"
   ]
  },
  {
   "cell_type": "code",
   "execution_count": 6,
   "metadata": {},
   "outputs": [],
   "source": [
    "# Defining the sigmoid function\n",
    "def sigmoid(z):\n",
    "    return 1 / (1 + np.exp(-z))"
   ]
  },
  {
   "cell_type": "code",
   "execution_count": 29,
   "metadata": {},
   "outputs": [
    {
     "data": {
      "text/plain": [
       "(array([[-0.4277969 ],\n",
       "        [-0.08952903]]), array([0.72223415]))"
      ]
     },
     "execution_count": 29,
     "metadata": {},
     "output_type": "execute_result"
    }
   ],
   "source": [
    "# We are randomly picking the weights between -1 to 1.\n",
    "weights = 2*np.random.random((2,1)) - 1\n",
    "bias = 2*np.random.random((1)) - 1\n",
    "weights, bias"
   ]
  },
  {
   "cell_type": "code",
   "execution_count": 31,
   "metadata": {},
   "outputs": [
    {
     "data": {
      "text/plain": [
       "array([[0.6730988 ],\n",
       "       [0.5730821 ],\n",
       "       [0.65310259],\n",
       "       [0.55104856]])"
      ]
     },
     "execution_count": 31,
     "metadata": {},
     "output_type": "execute_result"
    }
   ],
   "source": [
    "# Forward propagation for the no hidden layer network.\n",
    "output0 = X\n",
    "output = sigmoid(np.dot(output0,weights) + bias)\n",
    "output"
   ]
  },
  {
   "cell_type": "code",
   "execution_count": 32,
   "metadata": {},
   "outputs": [],
   "source": [
    "# Picking weihgt for the one hidden layer network.\n",
    "weight_h =  2*np.random.random((2,2)) - 1\n",
    "weight_output =  2*np.random.random((2,1)) - 1\n",
    "bias_h =  2*np.random.random((1,2)) - 1\n",
    "bias_output =  2*np.random.random((1)) - 1"
   ]
  },
  {
   "cell_type": "code",
   "execution_count": 36,
   "metadata": {},
   "outputs": [
    {
     "data": {
      "text/plain": [
       "array([[0.51993161],\n",
       "       [0.5401271 ],\n",
       "       [0.5321031 ],\n",
       "       [0.54923395]])"
      ]
     },
     "execution_count": 36,
     "metadata": {},
     "output_type": "execute_result"
    }
   ],
   "source": [
    "# Forward propagation for the one hidden layer network.\n",
    "output1 = sigmoid(np.dot(X,weight_h) + bias_h) # Output at layer 1\n",
    "output = sigmoid(np.dot(output1,weight_output) + bias_output)\n",
    "output"
   ]
  },
  {
   "cell_type": "markdown",
   "metadata": {},
   "source": [
    "## We are going to write the derivative of sigmiod funcion. If 'y' is sigmoid function than the value of it's derivative is y(1-y)."
   ]
  },
  {
   "cell_type": "code",
   "execution_count": 37,
   "metadata": {},
   "outputs": [],
   "source": [
    "# Derivative of sigmoid\n",
    "def derivativeSig(z):\n",
    "    return sigmoid(z)(1 - sigmoid(z))"
   ]
  },
  {
   "cell_type": "code",
   "execution_count": null,
   "metadata": {},
   "outputs": [],
   "source": []
  }
 ],
 "metadata": {
  "kernelspec": {
   "display_name": "Python 3",
   "language": "python",
   "name": "python3"
  },
  "language_info": {
   "codemirror_mode": {
    "name": "ipython",
    "version": 3
   },
   "file_extension": ".py",
   "mimetype": "text/x-python",
   "name": "python",
   "nbconvert_exporter": "python",
   "pygments_lexer": "ipython3",
   "version": "3.6.5"
  }
 },
 "nbformat": 4,
 "nbformat_minor": 2
}
