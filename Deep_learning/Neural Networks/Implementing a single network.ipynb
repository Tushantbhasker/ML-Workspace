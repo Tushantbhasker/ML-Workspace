{
 "cells": [
  {
   "cell_type": "markdown",
   "metadata": {},
   "source": [
    "## We are going to implement a neural network with no hidden layer."
   ]
  },
  {
   "cell_type": "code",
   "execution_count": 2,
   "metadata": {},
   "outputs": [],
   "source": [
    "import numpy as np"
   ]
  },
  {
   "cell_type": "code",
   "execution_count": 3,
   "metadata": {},
   "outputs": [
    {
     "name": "stdout",
     "output_type": "stream",
     "text": [
      "(4, 2)\n",
      "(4, 1)\n"
     ]
    }
   ],
   "source": [
    "# We are going to work with the AND gate here.\n",
    "# Also we are going to work with a basic neural network with no hidden layer and only the output layer.\n",
    "X = np.array([[0,0],[1,0],[0,1],[1,1]])\n",
    "Y = np.array([0,0,0,1]).reshape(-1,1)\n",
    "print(X.shape)\n",
    "print(Y.shape)"
   ]
  },
  {
   "cell_type": "code",
   "execution_count": 4,
   "metadata": {},
   "outputs": [],
   "source": [
    "# Defining the sigmoid function\n",
    "def sigmoid(z):\n",
    "    return 1 / (1 + np.exp(-z))\n",
    "# Derivative of sigmoid\n",
    "def derivativeSig(z):\n",
    "    return sigmoid(z)(1 - sigmoid(z))"
   ]
  },
  {
   "cell_type": "code",
   "execution_count": 64,
   "metadata": {},
   "outputs": [
    {
     "data": {
      "text/plain": [
       "(array([[-0.8070052],\n",
       "        [ 0.6489754]]), array([-0.87444354]))"
      ]
     },
     "execution_count": 64,
     "metadata": {},
     "output_type": "execute_result"
    }
   ],
   "source": [
    "# We are randomly picking the weights between -1 to 1.\n",
    "weights = 2*np.random.random((2,1)) - 1\n",
    "bias = 2*np.random.random((1)) - 1\n",
    "# Learning Rate\n",
    "lr = 0.1\n",
    "weights, bias"
   ]
  },
  {
   "cell_type": "code",
   "execution_count": 70,
   "metadata": {},
   "outputs": [
    {
     "data": {
      "text/plain": [
       "(array([[5.61401089],\n",
       "        [5.29693115]]), array([-8.3614485]))"
      ]
     },
     "execution_count": 70,
     "metadata": {},
     "output_type": "execute_result"
    }
   ],
   "source": [
    "# Forward propagation for the no hidden layer network.\n",
    "for iter in range(1000):\n",
    "    output0 = X\n",
    "    output = sigmoid(np.dot(output0,weights) + bias)\n",
    "\n",
    "\n",
    "    first_term = output - Y\n",
    "    second_term = output * (1 - output)\n",
    "    first_two = first_term * second_term\n",
    "    first_two.shape\n",
    "\n",
    "\n",
    "    changes = np.array([[0.0],[0.0]])\n",
    "    for i in range(2):\n",
    "        for j in range(4):\n",
    "            changes[i][0] += first_two[j][0] * output0[j][i]\n",
    "        weights -= lr*changes\n",
    "\n",
    "    bias_change = 0\n",
    "    for j in range(4):\n",
    "        bias_change += first_two[j][0] * 1\n",
    "    bias -= bias_change\n",
    "weights, bias"
   ]
  },
  {
   "cell_type": "code",
   "execution_count": 74,
   "metadata": {},
   "outputs": [
    {
     "data": {
      "text/plain": [
       "(array([[5.90621896],\n",
       "        [5.76342587]]), array([-8.92426721]))"
      ]
     },
     "execution_count": 74,
     "metadata": {},
     "output_type": "execute_result"
    }
   ],
   "source": [
    "# Optimised version of above code\n",
    "# Forward propagation for the no hidden layer network.\n",
    "for iter in range(1000):\n",
    "    output0 = X\n",
    "    output = sigmoid(np.dot(output0,weights) + bias)\n",
    "\n",
    "\n",
    "    first_term = output - Y\n",
    "    second_term = output * (1 - output)\n",
    "    first_two = first_term * second_term\n",
    "    first_two.shape\n",
    "\n",
    "\n",
    "    changes = np.dot(output0.T, first_two)\n",
    "    weights -= lr*changes\n",
    "    bias_change = sum(first_two)\n",
    "    bias -= bias_change\n",
    "weights, bias"
   ]
  },
  {
   "cell_type": "code",
   "execution_count": 75,
   "metadata": {},
   "outputs": [
    {
     "data": {
      "text/plain": [
       "array([[1.33101267e-04],\n",
       "       [4.66171417e-02],\n",
       "       [4.06662182e-02],\n",
       "       [9.39651764e-01]])"
      ]
     },
     "execution_count": 75,
     "metadata": {},
     "output_type": "execute_result"
    }
   ],
   "source": [
    "output = sigmoid(np.dot(X,weights) + bias)\n",
    "output"
   ]
  }
 ],
 "metadata": {
  "kernelspec": {
   "display_name": "Python 3",
   "language": "python",
   "name": "python3"
  },
  "language_info": {
   "codemirror_mode": {
    "name": "ipython",
    "version": 3
   },
   "file_extension": ".py",
   "mimetype": "text/x-python",
   "name": "python",
   "nbconvert_exporter": "python",
   "pygments_lexer": "ipython3",
   "version": "3.6.5"
  }
 },
 "nbformat": 4,
 "nbformat_minor": 2
}
