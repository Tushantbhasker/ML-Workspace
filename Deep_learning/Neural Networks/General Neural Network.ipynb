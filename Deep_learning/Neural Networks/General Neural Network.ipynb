{
 "cells": [
  {
   "cell_type": "markdown",
   "metadata": {},
   "source": [
    "## We are going to implement the X-OR function by neural network. It will have a one hidden layer in it."
   ]
  },
  {
   "cell_type": "code",
   "execution_count": 3,
   "metadata": {},
   "outputs": [],
   "source": [
    "import numpy as np"
   ]
  },
  {
   "cell_type": "code",
   "execution_count": 37,
   "metadata": {},
   "outputs": [
    {
     "name": "stdout",
     "output_type": "stream",
     "text": [
      "(4, 2)\n",
      "(4, 1)\n"
     ]
    }
   ],
   "source": [
    "X = np.array([[0,0],[1,0],[0,1],[1,1]])\n",
    "Y = np.array([0,1,1,0]).reshape(-1,1)\n",
    "print(X.shape)\n",
    "print(Y.shape)"
   ]
  },
  {
   "cell_type": "code",
   "execution_count": 38,
   "metadata": {},
   "outputs": [],
   "source": [
    "# Defining the sigmoid function\n",
    "def sigmoid(z):\n",
    "    return 1 / (1 + np.exp(-z))\n"
   ]
  },
  {
   "cell_type": "code",
   "execution_count": 39,
   "metadata": {},
   "outputs": [],
   "source": [
    "# Derivative of sigmoid\n",
    "def derivativeSig(z):\n",
    "    return sigmoid(z) * (1 - sigmoid(z))"
   ]
  },
  {
   "cell_type": "code",
   "execution_count": 92,
   "metadata": {},
   "outputs": [],
   "source": [
    "# Picking weihgt for the one hidden layer network.\n",
    "weight_h =  2*np.random.random((2,2)) - 1\n",
    "weight_output =  2*np.random.random((2,1)) - 1\n",
    "bias_h =  2*np.random.random((1,2)) - 1\n",
    "bias_output =  2*np.random.random((1,1)) - 1\n",
    "lr = 0.8"
   ]
  },
  {
   "cell_type": "code",
   "execution_count": 93,
   "metadata": {},
   "outputs": [],
   "source": [
    "for iter in range(2000):  \n",
    "    input_hidden = np.dot(X,weight_h) + bias_h\n",
    "    output_hidden = sigmoid(input_hidden) # Output at layer 1\n",
    "    inputForOutputLayer = np.dot(output_hidden,weight_output) + bias_output\n",
    "    output = sigmoid(inputForOutputLayer)\n",
    "\n",
    "    # First two term at output\n",
    "    first_term_for_output_layer = output - Y\n",
    "    second_term_for_output_layer = derivativeSig(inputForOutputLayer)\n",
    "    first_two_term_for_output = first_term_for_output_layer * second_term_for_output_layer\n",
    "\n",
    "    # First two term at hidden layer\n",
    "    first_term_for_hidden_layer = np.dot(first_two_term_for_output,weight_output.T )\n",
    "    second_term_for_hidden_layer = derivativeSig(input_hidden)\n",
    "    first_two_term_for_hidden = first_term_for_hidden_layer * second_term_for_hidden_layer\n",
    "\n",
    "    changes_output = np.dot(output_hidden.T, first_two_term_for_output)\n",
    "    changes_output_bias = np.sum(first_two_term_for_output, axis=0, keepdims=True)\n",
    "\n",
    "    changes_hidden = np.dot(output.T, first_two_term_for_hidden)\n",
    "    changes_hidden_bias = np.sum(first_two_term_for_hidden, axis=0, keepdims=True)\n",
    "\n",
    "    weight_h -= lr*changes_hidden\n",
    "    bias_h -= lr*changes_hidden_bias\n",
    "    weight_output -= lr*changes_output\n",
    "    bias_output -=  lr*changes_output_bias"
   ]
  },
  {
   "cell_type": "code",
   "execution_count": 94,
   "metadata": {},
   "outputs": [
    {
     "data": {
      "text/plain": [
       "array([[0.50778884],\n",
       "       [0.4734318 ],\n",
       "       [0.52642293],\n",
       "       [0.48703807]])"
      ]
     },
     "execution_count": 94,
     "metadata": {},
     "output_type": "execute_result"
    }
   ],
   "source": [
    "input_hidden = np.dot(X,weight_h) + bias_h\n",
    "output_hidden = sigmoid(input_hidden) # Output at layer 1\n",
    "inputForOutputLayer = np.dot(output_hidden,weight_output) + bias_output\n",
    "output = sigmoid(inputForOutputLayer)\n",
    "output"
   ]
  }
 ],
 "metadata": {
  "kernelspec": {
   "display_name": "Python 3",
   "language": "python",
   "name": "python3"
  },
  "language_info": {
   "codemirror_mode": {
    "name": "ipython",
    "version": 3
   },
   "file_extension": ".py",
   "mimetype": "text/x-python",
   "name": "python",
   "nbconvert_exporter": "python",
   "pygments_lexer": "ipython3",
   "version": "3.6.5"
  }
 },
 "nbformat": 4,
 "nbformat_minor": 2
}
