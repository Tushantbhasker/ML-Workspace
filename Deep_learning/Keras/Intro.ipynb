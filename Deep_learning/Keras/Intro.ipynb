{
 "cells": [
  {
   "cell_type": "code",
   "execution_count": 13,
   "metadata": {},
   "outputs": [],
   "source": [
    "from keras.models import Sequential\n",
    "from keras.layers import Dense"
   ]
  },
  {
   "cell_type": "code",
   "execution_count": 14,
   "metadata": {},
   "outputs": [],
   "source": [
    "model = Sequential()"
   ]
  },
  {
   "cell_type": "code",
   "execution_count": 15,
   "metadata": {},
   "outputs": [],
   "source": [
    "# Adding layers to our model.\n",
    "layer1 = Dense(units=32, activation='relu', input_dim=30)\n",
    "model.add(layer1)\n",
    "model.add(Dense(units=30, activation='relu')) #Second layer\n",
    "model.add(Dense(units=1, activation='sigmoid')) #Output layer"
   ]
  },
  {
   "cell_type": "code",
   "execution_count": 16,
   "metadata": {},
   "outputs": [],
   "source": [
    "# Compling the model\n",
    "# In this step we need to give the optimiser, cost function and metrics\n",
    "model.compile(optimizer='adam', loss='binary_crossentropy', metrics=['accuracy'])"
   ]
  },
  {
   "cell_type": "code",
   "execution_count": 17,
   "metadata": {},
   "outputs": [],
   "source": [
    "from sklearn import datasets\n",
    "from sklearn.model_selection import train_test_split\n",
    "cancer = datasets.load_breast_cancer()\n",
    "x_train, x_test, y_train, y_test = train_test_split(cancer.data, cancer.target, random_state=0, test_size=0.2)\n",
    "\n",
    "from sklearn.preprocessing import StandardScaler as SC\n",
    "sc = SC()\n",
    "\n",
    "x_train = sc.fit_transform(x_train)\n",
    "x_test = sc.transform(x_test)"
   ]
  },
  {
   "cell_type": "code",
   "execution_count": 18,
   "metadata": {},
   "outputs": [
    {
     "name": "stdout",
     "output_type": "stream",
     "text": [
      "Train on 455 samples, validate on 114 samples\n",
      "Epoch 1/20\n",
      "455/455 [==============================] - 0s 673us/step - loss: 0.5759 - acc: 0.7868 - val_loss: 0.4751 - val_acc: 0.8684\n",
      "Epoch 2/20\n",
      "455/455 [==============================] - 0s 53us/step - loss: 0.4010 - acc: 0.9275 - val_loss: 0.3467 - val_acc: 0.9123\n",
      "Epoch 3/20\n",
      "455/455 [==============================] - 0s 62us/step - loss: 0.2851 - acc: 0.9429 - val_loss: 0.2652 - val_acc: 0.9298\n",
      "Epoch 4/20\n",
      "455/455 [==============================] - 0s 57us/step - loss: 0.2099 - acc: 0.9495 - val_loss: 0.2150 - val_acc: 0.9298\n",
      "Epoch 5/20\n",
      "455/455 [==============================] - 0s 44us/step - loss: 0.1622 - acc: 0.9582 - val_loss: 0.1842 - val_acc: 0.9298\n",
      "Epoch 6/20\n",
      "455/455 [==============================] - 0s 64us/step - loss: 0.1311 - acc: 0.9626 - val_loss: 0.1640 - val_acc: 0.9211\n",
      "Epoch 7/20\n",
      "455/455 [==============================] - 0s 44us/step - loss: 0.1100 - acc: 0.9670 - val_loss: 0.1495 - val_acc: 0.9386\n",
      "Epoch 8/20\n",
      "455/455 [==============================] - 0s 57us/step - loss: 0.0963 - acc: 0.9714 - val_loss: 0.1369 - val_acc: 0.9298\n",
      "Epoch 9/20\n",
      "455/455 [==============================] - 0s 48us/step - loss: 0.0838 - acc: 0.9846 - val_loss: 0.1310 - val_acc: 0.9386\n",
      "Epoch 10/20\n",
      "455/455 [==============================] - 0s 57us/step - loss: 0.0762 - acc: 0.9846 - val_loss: 0.1275 - val_acc: 0.9386\n",
      "Epoch 11/20\n",
      "455/455 [==============================] - 0s 57us/step - loss: 0.0705 - acc: 0.9846 - val_loss: 0.1260 - val_acc: 0.9474\n",
      "Epoch 12/20\n",
      "455/455 [==============================] - 0s 42us/step - loss: 0.0657 - acc: 0.9846 - val_loss: 0.1251 - val_acc: 0.9474\n",
      "Epoch 13/20\n",
      "455/455 [==============================] - 0s 66us/step - loss: 0.0622 - acc: 0.9846 - val_loss: 0.1230 - val_acc: 0.9474\n",
      "Epoch 14/20\n",
      "455/455 [==============================] - 0s 53us/step - loss: 0.0592 - acc: 0.9846 - val_loss: 0.1234 - val_acc: 0.9474\n",
      "Epoch 15/20\n",
      "455/455 [==============================] - 0s 48us/step - loss: 0.0563 - acc: 0.9868 - val_loss: 0.1238 - val_acc: 0.9474\n",
      "Epoch 16/20\n",
      "455/455 [==============================] - 0s 59us/step - loss: 0.0543 - acc: 0.9890 - val_loss: 0.1242 - val_acc: 0.9474\n",
      "Epoch 17/20\n",
      "455/455 [==============================] - 0s 57us/step - loss: 0.0522 - acc: 0.9890 - val_loss: 0.1240 - val_acc: 0.9474\n",
      "Epoch 18/20\n",
      "455/455 [==============================] - 0s 62us/step - loss: 0.0505 - acc: 0.9890 - val_loss: 0.1241 - val_acc: 0.9474\n",
      "Epoch 19/20\n",
      "455/455 [==============================] - 0s 55us/step - loss: 0.0486 - acc: 0.9890 - val_loss: 0.1244 - val_acc: 0.9474\n",
      "Epoch 20/20\n",
      "455/455 [==============================] - 0s 57us/step - loss: 0.0470 - acc: 0.9912 - val_loss: 0.1262 - val_acc: 0.9474\n"
     ]
    },
    {
     "data": {
      "text/plain": [
       "<keras.callbacks.History at 0xe6a4c50>"
      ]
     },
     "execution_count": 18,
     "metadata": {},
     "output_type": "execute_result"
    }
   ],
   "source": [
    "model.fit(x_train, y_train, epochs=20, validation_data=(x_test, y_test))"
   ]
  }
 ],
 "metadata": {
  "kernelspec": {
   "display_name": "Python 3",
   "language": "python",
   "name": "python3"
  },
  "language_info": {
   "codemirror_mode": {
    "name": "ipython",
    "version": 3
   },
   "file_extension": ".py",
   "mimetype": "text/x-python",
   "name": "python",
   "nbconvert_exporter": "python",
   "pygments_lexer": "ipython3",
   "version": "3.6.5"
  }
 },
 "nbformat": 4,
 "nbformat_minor": 2
}
