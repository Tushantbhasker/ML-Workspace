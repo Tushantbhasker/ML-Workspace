{
 "cells": [
  {
   "cell_type": "code",
   "execution_count": 4,
   "metadata": {},
   "outputs": [],
   "source": [
    "import numpy as np\n",
    "import pandas as pd\n",
    "from sklearn import datasets\n",
    "import math"
   ]
  },
  {
   "cell_type": "code",
   "execution_count": 3,
   "metadata": {},
   "outputs": [],
   "source": [
    "def set(x_test, y_test):\n",
    "    result = {}\n",
    "    class_value = set(y_test)\n",
    "    for current_class in class_value:\n",
    "        result[current_class] = {}\n",
    "        result[\"total_data\"] = len(y_train)\n",
    "        # Rows which contain current_class\n",
    "        current_class_row = (y_train == current_class)\n",
    "        # It gives only those rows for which current_class_row id True\n",
    "        x_train_current = x_train[current_class_row]\n",
    "        y_train_current = y_train[current_class_row]\n",
    "        result[current_class][\"total_count\"] = len(y_train_current)\n",
    "        no_features = x_test.shape[1]\n",
    "        for i in range(1, no_features+1):\n",
    "            # NO. of features as 1,2,3,....,n as it has n features\n",
    "            result[current_class][i] = {}\n",
    "            # total no of values in ith feature\n",
    "            values_i_feature = set(x_test[:,i-1])\n",
    "            for current_value in value_i_feature:\n",
    "                result[current_class][i][current_value] = (x_train_current[:,i-1] == current_value).sum()\n",
    "    return result"
   ]
  },
  {
   "cell_type": "code",
   "execution_count": null,
   "metadata": {},
   "outputs": [],
   "source": [
    "def prob(dictionary, x, current_class):\n",
    "    # We are using log(probabilties) so division becomes subtraction and multiplication becomes addition\n",
    "    output = np.log(dictionary[current_class][\"total_count\"]) - np.log(dictionary[\"total_data\"])\n",
    "    no_features = len(ictionary[current_class].keys()) -1\n",
    "    for j in range(1, no_features+1):\n",
    "        xj = x[j-1]\n",
    "        count_current_class_with_value_xj = np.log(dictionary[current_class][j][xj] + 1)\n",
    "        count_current_class = np.log(dictionary[current_class][\"total_count\"] + len(dictionary[current_class][j].keys()))\n",
    "        current_p = count_current_class_with_value_xj - count_current_class\n",
    "        output = output + current_p\n",
    "    return output"
   ]
  },
  {
   "cell_type": "code",
   "execution_count": null,
   "metadata": {},
   "outputs": [],
   "source": [
    "def sngle_value(dictionary, x):\n",
    "    classes = dictionary.keys()\n",
    "    p = -1\n",
    "    cla = -1\n",
    "    for current_class in classes:\n",
    "        if current_class == \"total_data\":\n",
    "            continue\n",
    "        p_current = prob(dictionary, x, current_class)\n",
    "        if p < p_current:\n",
    "            p = p_current\n",
    "            cla = current_class\n",
    "    return cla"
   ]
  },
  {
   "cell_type": "code",
   "execution_count": null,
   "metadata": {},
   "outputs": [],
   "source": [
    "def predict(dictionar, x_test):\n",
    "    y_pred = []\n",
    "    for x in x_test:\n",
    "        x_class = single_value(dictionary, x)\n",
    "        y_pred.append(x_class)\n",
    "    return y_pred"
   ]
  }
 ],
 "metadata": {
  "kernelspec": {
   "display_name": "Python 3",
   "language": "python",
   "name": "python3"
  },
  "language_info": {
   "codemirror_mode": {
    "name": "ipython",
    "version": 3
   },
   "file_extension": ".py",
   "mimetype": "text/x-python",
   "name": "python",
   "nbconvert_exporter": "python",
   "pygments_lexer": "ipython3",
   "version": "3.6.5"
  }
 },
 "nbformat": 4,
 "nbformat_minor": 2
}
