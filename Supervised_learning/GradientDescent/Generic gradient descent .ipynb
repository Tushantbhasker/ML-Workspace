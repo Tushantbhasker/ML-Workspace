{
 "cells": [
  {
   "cell_type": "markdown",
   "metadata": {},
   "source": [
    "## Generic gradient function"
   ]
  },
  {
   "cell_type": "code",
   "execution_count": 2,
   "metadata": {},
   "outputs": [],
   "source": [
    "import numpy as np"
   ]
  },
  {
   "cell_type": "code",
   "execution_count": null,
   "metadata": {},
   "outputs": [],
   "source": [
    "def step_gradient(data, learning_rate, m , c):\n",
    "    N = len(data) #No. of data points\n",
    "    m_slope = 0\n",
    "    c_slope = 0\n",
    "    x = data[:,0]\n",
    "    y = data[:,1]\n",
    "    for i in range(N):\n",
    "        m_slope += (-2/N) * (y[i] - m*x[i] - c) * x[i]\n",
    "        c_slope += (-2/N) * (y[i] - m*x[i] - c)\n",
    "    m_new = m - learning_rate * m_slope\n",
    "    c_new = c - learning_rate * c_slope\n",
    "    return m_new,c_new"
   ]
  },
  {
   "cell_type": "code",
   "execution_count": null,
   "metadata": {},
   "outputs": [],
   "source": [
    "def gradient_descent(data, learning_rate, number_iteration):\n",
    "    m = 0\n",
    "    c = 0\n",
    "    for i in range(number_iteration):\n",
    "        m, c = step_gradient(data, m, c)\n",
    "    return (m,c)"
   ]
  },
  {
   "cell_type": "code",
   "execution_count": null,
   "metadata": {},
   "outputs": [],
   "source": [
    "def run():\n",
    "    data = np.loadxt(r\"\",delimiter=\",\")\n",
    "    learning_rate = 0.001\n",
    "    number_iteration = 100\n",
    "    m, c = gradient_descent(data, learning_rate, number_iteration)\n",
    "    print(m,c)"
   ]
  }
 ],
 "metadata": {
  "kernelspec": {
   "display_name": "Python 3",
   "language": "python",
   "name": "python3"
  },
  "language_info": {
   "codemirror_mode": {
    "name": "ipython",
    "version": 3
   },
   "file_extension": ".py",
   "mimetype": "text/x-python",
   "name": "python",
   "nbconvert_exporter": "python",
   "pygments_lexer": "ipython3",
   "version": "3.6.5"
  }
 },
 "nbformat": 4,
 "nbformat_minor": 2
}
