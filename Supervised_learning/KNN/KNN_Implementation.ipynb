{
 "cells": [
  {
   "cell_type": "code",
   "execution_count": 8,
   "metadata": {},
   "outputs": [],
   "source": [
    "from sklearn import datasets\n",
    "from sklearn.model_selection import train_test_split\n",
    "from collections import Counter\n",
    "from sklearn.metrics import accuracy_score"
   ]
  },
  {
   "cell_type": "code",
   "execution_count": 9,
   "metadata": {},
   "outputs": [],
   "source": [
    "dataset = datasets.load_breast_cancer() \n",
    "x = dataset.data\n",
    "y = dataset.target"
   ]
  },
  {
   "cell_type": "code",
   "execution_count": 10,
   "metadata": {},
   "outputs": [],
   "source": [
    "x_train, x_test, y_train, y_test = train_test_split(x, y, random_state=0)"
   ]
  },
  {
   "cell_type": "code",
   "execution_count": 16,
   "metadata": {},
   "outputs": [],
   "source": [
    "# KNN Implementation\n",
    "def train(x, y):\n",
    "    return\n",
    "\n",
    "\n",
    "def pred_one(x_train, y_train, X, k):\n",
    "    distances = []\n",
    "    for i in range(len(x_train)):\n",
    "        d = ((x_train[i,:] - X) ** 2).sum()\n",
    "        distances.append([d,i])\n",
    "    # It will sort the distances list acc to value of d\n",
    "    distances = sorted(distances)\n",
    "    target = []\n",
    "    for i in range(k):\n",
    "        index_of_class_y = distances[i][1]\n",
    "        target.append(y_train[index_of_class_y])\n",
    "    # We will use Counter to find majority of classes in target list\n",
    "    return Counter(target).most_common(1)[0][0]\n",
    "    \n",
    "def predict(x, y, x_test, k):\n",
    "    pred = []\n",
    "    for X in x_test:\n",
    "        pred.append(pred_one(x, y, X, k))\n",
    "    return pred"
   ]
  },
  {
   "cell_type": "code",
   "execution_count": 18,
   "metadata": {},
   "outputs": [
    {
     "data": {
      "text/plain": [
       "0.9440559440559441"
      ]
     },
     "execution_count": 18,
     "metadata": {},
     "output_type": "execute_result"
    }
   ],
   "source": [
    "y_pred = predict(x_train, y_train, x_test, 7)\n",
    "accuracy_score(y_test, y_pred)"
   ]
  }
 ],
 "metadata": {
  "kernelspec": {
   "display_name": "Python 3",
   "language": "python",
   "name": "python3"
  },
  "language_info": {
   "codemirror_mode": {
    "name": "ipython",
    "version": 3
   },
   "file_extension": ".py",
   "mimetype": "text/x-python",
   "name": "python",
   "nbconvert_exporter": "python",
   "pygments_lexer": "ipython3",
   "version": "3.6.5"
  }
 },
 "nbformat": 4,
 "nbformat_minor": 2
}
