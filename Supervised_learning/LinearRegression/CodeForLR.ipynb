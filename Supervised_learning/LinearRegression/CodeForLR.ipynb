{
 "cells": [
  {
   "cell_type": "markdown",
   "metadata": {},
   "source": [
    "## Code for linear regression in one variable"
   ]
  },
  {
   "cell_type": "code",
   "execution_count": 1,
   "metadata": {},
   "outputs": [],
   "source": [
    "import numpy as np"
   ]
  },
  {
   "cell_type": "code",
   "execution_count": 3,
   "metadata": {},
   "outputs": [],
   "source": [
    "data = np.loadtxt(\"\"r\"C:\\Users\\tushant\\Downloads\\Compressed\\0000000000000836\\data.csv\",delimiter=\",\")"
   ]
  },
  {
   "cell_type": "code",
   "execution_count": 4,
   "metadata": {},
   "outputs": [],
   "source": [
    "x = data[:,0]\n",
    "y = data[:,1]"
   ]
  },
  {
   "cell_type": "code",
   "execution_count": 5,
   "metadata": {},
   "outputs": [],
   "source": [
    "def fit(x, y):\n",
    "\ta = (x*y).mean()\n",
    "\tb = x.mean() * y.mean()\n",
    "\tc = (x*x).mean()\n",
    "\td = x.mean() * x.mean()\n",
    "\tm = (a-b)/(c-d)\n",
    "\tc = y.mean() - m * x.mean()\n",
    "\treturn (m,c)"
   ]
  },
  {
   "cell_type": "code",
   "execution_count": 18,
   "metadata": {},
   "outputs": [],
   "source": [
    "m,c = fit(x_train, y_train)\n",
    "def predict(x, m, c):\n",
    "\ty = x * m + c\n",
    "\treturn y"
   ]
  },
  {
   "cell_type": "code",
   "execution_count": 8,
   "metadata": {},
   "outputs": [],
   "source": [
    "def score(y_test, y_predict):\n",
    "\tu = (y_test - y_predict) ** 2\n",
    "\tu = u.sum()\n",
    "\tmean = y_test.mean()\n",
    "\tv = (y_test - mean) ** 2\n",
    "\tv = v.sum\n",
    "\ts = 1 - (u/v)\n",
    "\treturn s"
   ]
  },
  {
   "cell_type": "code",
   "execution_count": 24,
   "metadata": {},
   "outputs": [],
   "source": [
    "m,c = fit(x_train, y_train)\n",
    "def cost_fun(x, y, m, c):\n",
    "\te = y - (m * x + c)\n",
    "\te = e ** 2\n",
    "\te = e.mean()\n",
    "\treturn e"
   ]
  },
  {
   "cell_type": "code",
   "execution_count": 22,
   "metadata": {},
   "outputs": [
    {
     "data": {
      "text/plain": [
       "70"
      ]
     },
     "execution_count": 22,
     "metadata": {},
     "output_type": "execute_result"
    }
   ],
   "source": [
    "from sklearn import model_selection\n",
    "x_train,x_test,y_train,y_test = model_selection.train_test_split(x, y, test_size = 0.3)\n",
    "x_train.size"
   ]
  },
  {
   "cell_type": "code",
   "execution_count": 23,
   "metadata": {},
   "outputs": [
    {
     "data": {
      "text/plain": [
       "(1.3797403902750154, 6.568790542689726)"
      ]
     },
     "execution_count": 23,
     "metadata": {},
     "output_type": "execute_result"
    }
   ],
   "source": [
    "m,c = fit(x_train, y_train)\n",
    "m,c"
   ]
  }
 ],
 "metadata": {
  "kernelspec": {
   "display_name": "Python 3",
   "language": "python",
   "name": "python3"
  },
  "language_info": {
   "codemirror_mode": {
    "name": "ipython",
    "version": 3
   },
   "file_extension": ".py",
   "mimetype": "text/x-python",
   "name": "python",
   "nbconvert_exporter": "python",
   "pygments_lexer": "ipython3",
   "version": "3.6.5"
  }
 },
 "nbformat": 4,
 "nbformat_minor": 2
}
